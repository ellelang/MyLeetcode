{
 "cells": [
  {
   "cell_type": "markdown",
   "metadata": {},
   "source": [
    "## 2.1. Writing a Proper Python Class"
   ]
  },
  {
   "cell_type": "code",
   "execution_count": 1,
   "metadata": {},
   "outputs": [
    {
     "name": "stdout",
     "output_type": "stream",
     "text": [
      "<__main__.MSDie object at 0x000002589BAD2EF0> 6\n",
      "<__main__.MSDie object at 0x000002589BAD2EF0> 4\n",
      "<__main__.MSDie object at 0x000002589BAD2EF0> 6\n",
      "<__main__.MSDie object at 0x000002589BAD2EF0> 1\n",
      "<__main__.MSDie object at 0x000002589BAD2EF0> 2\n",
      "[<__main__.MSDie object at 0x000002589BAD2F28>, <__main__.MSDie object at 0x000002589BABA3C8>]\n"
     ]
    }
   ],
   "source": [
    "#A Basic implementation of the MSDie class# \n",
    "\n",
    "import random\n",
    "\n",
    "class MSDie:\n",
    "    \"\"\"\n",
    "    Multi-sided die\n",
    "\n",
    "    Instance Variables:\n",
    "        current_value\n",
    "        num_sides\n",
    "\n",
    "    \"\"\"\n",
    "\n",
    "    def __init__(self, num_sides):\n",
    "        self.num_sides = num_sides\n",
    "        self.current_value = self.roll()\n",
    "\n",
    "    def roll(self):\n",
    "        self.current_value = random.randrange(1,self.num_sides+1)\n",
    "        return self.current_value\n",
    "\n",
    "my_die = MSDie(6)\n",
    "for i in range(5):\n",
    "    print(my_die, my_die.current_value)\n",
    "    my_die.roll()\n",
    "\n",
    "d_list = [MSDie(6), MSDie(20)]\n",
    "print(d_list)"
   ]
  },
  {
   "cell_type": "markdown",
   "metadata": {},
   "source": [
    "This is a nice starting point. In fact, for some assignments this might be all you need. We have a class, we can construct a die, and roll it, and print out the current value. Sort of… It would be nicer if we could just print(my_die) and have the value of the die show up without having to know about the instance variable called current_value.\n",
    "\n",
    "Lets fix up the representation to make printing and interacting with the die a bit more convenient. For this we will implement the __str__ and __repr__ magic methods."
   ]
  },
  {
   "cell_type": "code",
   "execution_count": 2,
   "metadata": {},
   "outputs": [
    {
     "name": "stdout",
     "output_type": "stream",
     "text": [
      "4\n",
      "4\n",
      "3\n",
      "4\n",
      "1\n",
      "[MSDie(6) : 5, MSDie(20) : 20]\n"
     ]
    }
   ],
   "source": [
    "import random\n",
    "\n",
    "class MSDie:\n",
    "    \"\"\"\n",
    "    Multi-sided die\n",
    "\n",
    "    Instance Variables:\n",
    "        current_value\n",
    "        num_sides\n",
    "\n",
    "    \"\"\"\n",
    "\n",
    "    def __init__(self, num_sides):\n",
    "        self.num_sides = num_sides\n",
    "        self.current_value = self.roll()\n",
    "\n",
    "    def roll(self):\n",
    "        self.current_value = random.randrange(1,self.num_sides+1)\n",
    "        return self.current_value\n",
    "\n",
    "    def __str__(self):\n",
    "        return str(self.current_value)\n",
    "\n",
    "    def __repr__(self):\n",
    "        return \"MSDie({}) : {}\".format(self.num_sides, self.current_value)\n",
    "\n",
    "\n",
    "my_die = MSDie(6)\n",
    "for i in range(5):\n",
    "    print(my_die)\n",
    "    my_die.roll()\n",
    "\n",
    "d_list = [MSDie(6), MSDie(20)]\n",
    "print(d_list)"
   ]
  },
  {
   "cell_type": "markdown",
   "metadata": {},
   "source": [
    "Notice that when we print a list of objects, the repr is used to display those objects. Having a good repr makes it easier to debug with simple print statements."
   ]
  }
 ],
 "metadata": {
  "kernelspec": {
   "display_name": "Python 3",
   "language": "python",
   "name": "python3"
  },
  "language_info": {
   "codemirror_mode": {
    "name": "ipython",
    "version": 3
   },
   "file_extension": ".py",
   "mimetype": "text/x-python",
   "name": "python",
   "nbconvert_exporter": "python",
   "pygments_lexer": "ipython3",
   "version": "3.7.3"
  }
 },
 "nbformat": 4,
 "nbformat_minor": 2
}
